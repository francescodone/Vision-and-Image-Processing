{
  "nbformat": 4,
  "nbformat_minor": 0,
  "metadata": {
    "colab": {
      "name": "task2.ipynb",
      "provenance": []
    },
    "kernelspec": {
      "name": "python3",
      "display_name": "Python 3"
    }
  },
  "cells": [
    {
      "cell_type": "code",
      "metadata": {
        "id": "W-MBtCGk6BfN"
      },
      "source": [
        "import numpy as np"
      ],
      "execution_count": 1,
      "outputs": []
    },
    {
      "cell_type": "code",
      "metadata": {
        "id": "1nU75uAC6cwD",
        "colab": {
          "base_uri": "https://localhost:8080/"
        },
        "outputId": "5c1c2105-9f73-42ee-899a-896059951d24"
      },
      "source": [
        "a = np.array([1,4,-5,3])\n",
        "b = np.array([3,-1,0,2])\n",
        "\n",
        "print(a@b)\n",
        "a.shape = (4,1) # a matrix with 1 column (a column vector)\n",
        "b.shape = (4,1) # a matrix with 1 column (a column vector)\n",
        "print(a)\n",
        "print(b)\n",
        "print(b.shape)\n",
        "print(b.T.shape)\n",
        "print(a@b.T) #it was a@b\n",
        "print(a.T@b)\n",
        "print(float(a.T@b))\n",
        "print(a@b.T)"
      ],
      "execution_count": 2,
      "outputs": [
        {
          "output_type": "stream",
          "text": [
            "5\n",
            "[[ 1]\n",
            " [ 4]\n",
            " [-5]\n",
            " [ 3]]\n",
            "[[ 3]\n",
            " [-1]\n",
            " [ 0]\n",
            " [ 2]]\n",
            "(4, 1)\n",
            "(1, 4)\n",
            "[[  3  -1   0   2]\n",
            " [ 12  -4   0   8]\n",
            " [-15   5   0 -10]\n",
            " [  9  -3   0   6]]\n",
            "[[5]]\n",
            "5.0\n",
            "[[  3  -1   0   2]\n",
            " [ 12  -4   0   8]\n",
            " [-15   5   0 -10]\n",
            " [  9  -3   0   6]]\n"
          ],
          "name": "stdout"
        }
      ]
    },
    {
      "cell_type": "code",
      "metadata": {
        "id": "4ILuy7ZP8Xp2",
        "colab": {
          "base_uri": "https://localhost:8080/"
        },
        "outputId": "512b7af2-b923-4963-973b-daf8b328978f"
      },
      "source": [
        "t = np.array([2,0,-1])\n",
        "t.shape = (3,1)\n",
        "np.cross(t.T, t.T) #[0,0,0]\n",
        "a = np.array([-2,6,1])\n",
        "a.shape = (3,1)\n",
        "b = np.cross(t.T, a.T) #[6,0,12]\n",
        "c = np.cross(a.T, t.T) #[-6,0,-12]\n",
        "t.T@b.T #0\n",
        "a.T@b.T #0"
      ],
      "execution_count": 20,
      "outputs": [
        {
          "output_type": "execute_result",
          "data": {
            "text/plain": [
              "array([[0]])"
            ]
          },
          "metadata": {
            "tags": []
          },
          "execution_count": 20
        }
      ]
    },
    {
      "cell_type": "code",
      "metadata": {
        "colab": {
          "base_uri": "https://localhost:8080/"
        },
        "id": "tMhN9lFhS043",
        "outputId": "90afeb16-226c-44ae-af13-c2f8ea693ee9"
      },
      "source": [
        "#3d vector\n",
        "def get_t_matrix(vec):\n",
        "  m = np.zeros((vec.size, vec.size))\n",
        "  m[0,1] = -vec[2]\n",
        "  m[0,2] = vec[1]\n",
        "  m[1,0] = vec[2]\n",
        "  m[1,2] = -vec[0]\n",
        "  m[2,0] = -vec[1]\n",
        "  m[2,1] = vec[0]\n",
        "  return m\n",
        "\n",
        "m = get_t_matrix(t)\n",
        "print(m.dot(t))\n",
        "print(m.dot(a))\n",
        "\n",
        "print(-m==m.T)\n",
        "\n",
        "m2 = m.dot(m)\n",
        "print(m2==m2.T)\n",
        "\n",
        "m3 = m.dot(m.dot(m))\n",
        "print(m3==m3.T)"
      ],
      "execution_count": 28,
      "outputs": [
        {
          "output_type": "stream",
          "text": [
            "[[0.]\n",
            " [0.]\n",
            " [0.]]\n",
            "[[ 6.]\n",
            " [ 0.]\n",
            " [12.]]\n",
            "[[ True  True  True]\n",
            " [ True  True  True]\n",
            " [ True  True  True]]\n",
            "[[ True  True  True]\n",
            " [ True  True  True]\n",
            " [ True  True  True]]\n",
            "[[ True False  True]\n",
            " [False  True False]\n",
            " [ True False  True]]\n"
          ],
          "name": "stdout"
        }
      ]
    }
  ]
}